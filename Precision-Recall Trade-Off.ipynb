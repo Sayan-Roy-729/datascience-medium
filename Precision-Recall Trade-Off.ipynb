{
 "cells": [
  {
   "cell_type": "code",
   "execution_count": 1,
   "id": "fa5ebbbc",
   "metadata": {
    "ExecuteTime": {
     "end_time": "2022-02-09T07:21:27.902180Z",
     "start_time": "2022-02-09T07:21:27.884880Z"
    }
   },
   "outputs": [],
   "source": [
    "# This is the sample code to see what happens for changing the threshold value for prediction.\n",
    "# For understanding the concept, check-out my article here ->\n",
    "# https://medium.com/@sayanroy729/what-is-precision-recall-trade-off-3487db276ffc"
   ]
  },
  {
   "cell_type": "code",
   "execution_count": 2,
   "id": "5c8e28d3",
   "metadata": {
    "ExecuteTime": {
     "end_time": "2022-02-09T07:21:29.280660Z",
     "start_time": "2022-02-09T07:21:27.903178Z"
    }
   },
   "outputs": [],
   "source": [
    "# import libraries\n",
    "import numpy as np\n",
    "import matplotlib.pyplot as plt\n",
    "import seaborn as sns\n",
    "\n",
    "from sklearn.datasets import fetch_openml\n",
    "from sklearn.linear_model import SGDClassifier\n",
    "from sklearn.metrics import confusion_matrix\n",
    "from sklearn.metrics import precision_score\n",
    "from sklearn.metrics import recall_score\n",
    "from sklearn.metrics import f1_score"
   ]
  },
  {
   "cell_type": "code",
   "execution_count": 3,
   "id": "bf940ab1",
   "metadata": {
    "ExecuteTime": {
     "end_time": "2022-02-09T07:22:54.340484Z",
     "start_time": "2022-02-09T07:21:29.281657Z"
    }
   },
   "outputs": [
    {
     "data": {
      "text/plain": [
       "dict_keys(['data', 'target', 'frame', 'categories', 'feature_names', 'target_names', 'DESCR', 'details', 'url'])"
      ]
     },
     "execution_count": 3,
     "metadata": {},
     "output_type": "execute_result"
    }
   ],
   "source": [
    "# load the mnist dataset\n",
    "mnist = fetch_openml(\"mnist_784\", version=1)\n",
    "mnist.keys()"
   ]
  },
  {
   "cell_type": "code",
   "execution_count": 4,
   "id": "8f17a19d",
   "metadata": {
    "ExecuteTime": {
     "end_time": "2022-02-09T07:22:54.355444Z",
     "start_time": "2022-02-09T07:22:54.344473Z"
    }
   },
   "outputs": [
    {
     "name": "stdout",
     "output_type": "stream",
     "text": [
      "Shape of independent variable: (70000, 784)\n",
      "Shape of dependent variable:   (70000,)\n"
     ]
    }
   ],
   "source": [
    "# define the dependent & independent variable\n",
    "X, y = mnist[\"data\"].to_numpy(), mnist[\"target\"].to_numpy().astype(np.uint8)\n",
    "\n",
    "print(f\"Shape of independent variable: {X.shape}\")\n",
    "print(f\"Shape of dependent variable:   {y.shape}\")"
   ]
  },
  {
   "cell_type": "code",
   "execution_count": 5,
   "id": "7ff94ed3",
   "metadata": {
    "ExecuteTime": {
     "end_time": "2022-02-09T07:22:54.432241Z",
     "start_time": "2022-02-09T07:22:54.356442Z"
    }
   },
   "outputs": [
    {
     "data": {
      "image/png": "[encoded data removed]",
      "text/plain": [
       "<Figure size 432x288 with 1 Axes>"
      ]
     },
     "metadata": {
      "needs_background": "light"
     },
     "output_type": "display_data"
    }
   ],
   "source": [
    "# now visalize a digit\n",
    "some_digit       = X[0]\n",
    "some_digit_image = some_digit.reshape(28, 28)\n",
    "\n",
    "plt.imshow(some_digit_image, cmap=\"binary\")\n",
    "plt.axis(\"off\")\n",
    "plt.title(f\"Label: {y[0]}\")\n",
    "plt.show()"
   ]
  },
  {
   "cell_type": "code",
   "execution_count": 6,
   "id": "bf5e34be",
   "metadata": {
    "ExecuteTime": {
     "end_time": "2022-02-09T07:22:54.448197Z",
     "start_time": "2022-02-09T07:22:54.433238Z"
    }
   },
   "outputs": [],
   "source": [
    "# create training set and test set\n",
    "X_train, X_test, y_train, y_test = X[:60000], X[60000:], y[:60000], y[60000:]\n",
    "\n",
    "# True for all 5s, False for all other digits. This will make binary classification problem\n",
    "y_train_5 = (y_train == 5)\n",
    "y_test_5  = (y_test  == 5)"
   ]
  },
  {
   "cell_type": "code",
   "execution_count": 7,
   "id": "8a5f4784",
   "metadata": {
    "ExecuteTime": {
     "end_time": "2022-02-09T07:22:54.464155Z",
     "start_time": "2022-02-09T07:22:54.449196Z"
    }
   },
   "outputs": [],
   "source": [
    "# create a SGDClassifier\n",
    "sgd_clf = SGDClassifier(random_state=42)"
   ]
  },
  {
   "cell_type": "code",
   "execution_count": 8,
   "id": "6b916cb3",
   "metadata": {
    "ExecuteTime": {
     "end_time": "2022-02-09T07:23:12.995263Z",
     "start_time": "2022-02-09T07:22:54.465153Z"
    }
   },
   "outputs": [],
   "source": [
    "# train our classifier\n",
    "sgd_clf.fit(X_train, y_train_5)\n",
    "\n",
    "y_train_pred = sgd_clf.predict(X_train)"
   ]
  },
  {
   "cell_type": "code",
   "execution_count": 9,
   "id": "a6e3e134",
   "metadata": {
    "ExecuteTime": {
     "end_time": "2022-02-09T07:23:13.010872Z",
     "start_time": "2022-02-09T07:23:12.996259Z"
    }
   },
   "outputs": [],
   "source": [
    "# confusion matrix\n",
    "cm = confusion_matrix(y_train_5, y_train_pred)"
   ]
  },
  {
   "cell_type": "code",
   "execution_count": 10,
   "id": "246fbf96",
   "metadata": {
    "ExecuteTime": {
     "end_time": "2022-02-09T07:23:13.026829Z",
     "start_time": "2022-02-09T07:23:13.012867Z"
    }
   },
   "outputs": [],
   "source": [
    "# create a function to visualize the confusion matrix\n",
    "def plot_confusion_matrix(cm):\n",
    "    plt.figure(figsize=(8, 8))\n",
    "    ax = sns.heatmap(cm, annot=True, cmap='Blues', annot_kws={\"size\": 16}, fmt='g')\n",
    "\n",
    "    ax.set_title('Confusion Matrix',  fontsize=16);\n",
    "    ax.set_xlabel('\\nPredicted Values', fontsize=16)\n",
    "    ax.set_ylabel('Actual Values', fontsize=16);\n",
    "\n",
    "    ## Ticket labels - List must be in alphabetical order\n",
    "    ax.xaxis.set_ticklabels([0, 1])\n",
    "    ax.yaxis.set_ticklabels([0, 1])\n",
    "\n",
    "    ## Display the visualization of the Confusion Matrix.\n",
    "    plt.show()"
   ]
  },
  {
   "cell_type": "code",
   "execution_count": 11,
   "id": "c05d2a23",
   "metadata": {
    "ExecuteTime": {
     "end_time": "2022-02-09T07:23:13.152493Z",
     "start_time": "2022-02-09T07:23:13.027826Z"
    }
   },
   "outputs": [
    {
     "data": {
      "image/png": "[encoded data removed]",
      "text/plain": [
       "<Figure size 576x576 with 2 Axes>"
      ]
     },
     "metadata": {
      "needs_background": "light"
     },
     "output_type": "display_data"
    }
   ],
   "source": [
    "# visualize the confusion matrix\n",
    "plot_confusion_matrix(cm)"
   ]
  },
  {
   "cell_type": "code",
   "execution_count": 12,
   "id": "7fe46648",
   "metadata": {
    "ExecuteTime": {
     "end_time": "2022-02-09T07:23:13.200366Z",
     "start_time": "2022-02-09T07:23:13.153490Z"
    }
   },
   "outputs": [
    {
     "name": "stdout",
     "output_type": "stream",
     "text": [
      "Precision = 0.6805026118876183\n",
      "Recall    = 0.8891348459693783\n",
      "F1 Score  = 0.7709532949456175\n"
     ]
    }
   ],
   "source": [
    "# calculate precision & recall\n",
    "precision = precision_score(y_train_5, y_train_pred)\n",
    "recall    = recall_score(y_train_5, y_train_pred)\n",
    "f1        = f1_score(y_train_5, y_train_pred)\n",
    "\n",
    "print(f\"Precision = {precision}\")\n",
    "print(f\"Recall    = {recall}\")\n",
    "print(f\"F1 Score  = {f1}\")"
   ]
  },
  {
   "cell_type": "code",
   "execution_count": 13,
   "id": "999d8559",
   "metadata": {
    "ExecuteTime": {
     "end_time": "2022-02-09T07:23:13.216324Z",
     "start_time": "2022-02-09T07:23:13.201364Z"
    }
   },
   "outputs": [
    {
     "data": {
      "text/plain": [
       "array([2164.22030239])"
      ]
     },
     "execution_count": 13,
     "metadata": {},
     "output_type": "execute_result"
    }
   ],
   "source": [
    "# dicision score given by our classifier\n",
    "y_scores = sgd_clf.decision_function([some_digit])\n",
    "y_scores"
   ]
  },
  {
   "cell_type": "code",
   "execution_count": 14,
   "id": "e13f63c0",
   "metadata": {
    "ExecuteTime": {
     "end_time": "2022-02-09T07:23:13.232280Z",
     "start_time": "2022-02-09T07:23:13.218319Z"
    }
   },
   "outputs": [
    {
     "data": {
      "text/plain": [
       "array([ True])"
      ]
     },
     "execution_count": 14,
     "metadata": {},
     "output_type": "execute_result"
    }
   ],
   "source": [
    "# in scikit learn, the default threshold = 0\n",
    "threshold         = 0\n",
    "y_some_digit_pred = (y_scores > threshold)\n",
    "y_some_digit_pred"
   ]
  },
  {
   "cell_type": "code",
   "execution_count": 15,
   "id": "f2508f0b",
   "metadata": {
    "ExecuteTime": {
     "end_time": "2022-02-09T07:23:13.248237Z",
     "start_time": "2022-02-09T07:23:13.233278Z"
    }
   },
   "outputs": [
    {
     "data": {
      "text/plain": [
       "array([False])"
      ]
     },
     "execution_count": 15,
     "metadata": {},
     "output_type": "execute_result"
    }
   ],
   "source": [
    "# increase the threshold value\n",
    "threshold         = 8000\n",
    "y_some_digit_pred = (y_scores > threshold)\n",
    "y_some_digit_pred"
   ]
  },
  {
   "cell_type": "code",
   "execution_count": 16,
   "id": "32037fb1",
   "metadata": {
    "ExecuteTime": {
     "end_time": "2022-02-09T07:23:13.340990Z",
     "start_time": "2022-02-09T07:23:13.249236Z"
    }
   },
   "outputs": [],
   "source": [
    "# prediction by using increased threshold value\n",
    "y_train_pred = sgd_clf.decision_function(X_train)\n",
    "y_train_pred = (y_train_pred > threshold)\n",
    "\n",
    "# confusion matrix for out new threshold value\n",
    "cm = confusion_matrix(y_train_5, y_train_pred)"
   ]
  },
  {
   "cell_type": "code",
   "execution_count": 17,
   "id": "bac07991",
   "metadata": {
    "ExecuteTime": {
     "end_time": "2022-02-09T07:23:13.449699Z",
     "start_time": "2022-02-09T07:23:13.341986Z"
    }
   },
   "outputs": [
    {
     "data": {
      "image/png": "[encoded data removed]",
      "text/plain": [
       "<Figure size 576x576 with 2 Axes>"
      ]
     },
     "metadata": {
      "needs_background": "light"
     },
     "output_type": "display_data"
    }
   ],
   "source": [
    "# visualise the confusion matrix\n",
    "plot_confusion_matrix(cm)"
   ]
  },
  {
   "cell_type": "code",
   "execution_count": 18,
   "id": "c2e96a09",
   "metadata": {
    "ExecuteTime": {
     "end_time": "2022-02-09T07:23:13.497571Z",
     "start_time": "2022-02-09T07:23:13.450697Z"
    }
   },
   "outputs": [
    {
     "name": "stdout",
     "output_type": "stream",
     "text": [
      "Precision = 0.9872340425531915\n",
      "Recall    = 0.1283895960154953\n",
      "F1 Score  = 0.22722820763956902\n"
     ]
    }
   ],
   "source": [
    "# calculate precision & recall again\n",
    "precision = precision_score(y_train_5, y_train_pred)\n",
    "recall    = recall_score(y_train_5, y_train_pred)\n",
    "f1        = f1_score(y_train_5, y_train_pred)\n",
    "\n",
    "print(f\"Precision = {precision}\")\n",
    "print(f\"Recall    = {recall}\")\n",
    "print(f\"F1 Score  = {f1}\")"
   ]
  }
 ],
 "metadata": {
  "kernelspec": {
   "display_name": "Python 3 (ipykernel)",
   "language": "python",
   "name": "python3"
  },
  "language_info": {
   "codemirror_mode": {
    "name": "ipython",
    "version": 3
   },
   "file_extension": ".py",
   "mimetype": "text/x-python",
   "name": "python",
   "nbconvert_exporter": "python",
   "pygments_lexer": "ipython3",
   "version": "3.9.10"
  },
  "toc": {
   "base_numbering": 1,
   "nav_menu": {},
   "number_sections": true,
   "sideBar": true,
   "skip_h1_title": false,
   "title_cell": "Table of Contents",
   "title_sidebar": "Contents",
   "toc_cell": false,
   "toc_position": {},
   "toc_section_display": true,
   "toc_window_display": false
  }
 },
 "nbformat": 4,
 "nbformat_minor": 5
}
